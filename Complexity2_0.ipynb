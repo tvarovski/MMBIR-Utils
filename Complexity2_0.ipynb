{
  "nbformat": 4,
  "nbformat_minor": 0,
  "metadata": {
    "colab": {
      "name": "Complexity2.0.ipynb",
      "provenance": [],
      "toc_visible": true
    },
    "kernelspec": {
      "name": "python3",
      "display_name": "Python 3"
    }
  },
  "cells": [
    {
      "cell_type": "markdown",
      "metadata": {
        "id": "AH0EVV0CU7vz"
      },
      "source": [
        "# Initialize Environment\n",
        "\n",
        "1. Import Dependencies\n",
        "2. Define Program Functions"
      ]
    },
    {
      "cell_type": "code",
      "metadata": {
        "id": "IHppdKNdC8xR"
      },
      "source": [
        "import pandas as pd\n",
        "import ast\n",
        "from pandas import DataFrame\n",
        "\n",
        "def unique(list1):\n",
        "  # this function takes a list1 and returns a list2 with\n",
        "  # unique elements of list \n",
        "\n",
        "  list_set = set(list1) \n",
        "  unique_list = (list(list_set))\n",
        "  return unique_list\n",
        "\n",
        "def wordsInSequence(sequence, treeLevel):\n",
        "  # takes a genetic sequence and a treeLevel (word length) and returns\n",
        "  # a list with words in that sequence\n",
        "\n",
        "  length = len(sequence)\n",
        "  max_possible_words_in_sequence = length-(treeLevel-1)\n",
        "  wordList = []\n",
        "  for i in range(max_possible_words_in_sequence):\n",
        "    wordList.append(sequence[0+i:treeLevel+i])\n",
        "  return wordList\n",
        "\n",
        "def findComplexity(sequence, treeLevel, complexity_threshold):\n",
        "  # takes a genetic sequence and calculates the linguistic complexity \n",
        "  # for that sequence for word length treeLevel\n",
        "\n",
        "  wordList = wordsInSequence(sequence,treeLevel)\n",
        "  wordList = unique(wordList)\n",
        "\n",
        "  if len(sequence) > 4**treeLevel:\n",
        "    complexity = len(wordList)/(4**treeLevel)\n",
        "  else:\n",
        "    complexity = len(wordList)/(len(sequence)-(treeLevel-1))\n",
        "\n",
        "  if (complexity < complexity_threshold) & (complexity > 0.2):\n",
        "    print(\"Complexity at tree level \" + str(treeLevel) + \" is \" + str(complexity) + \" for sequence: \"+str(sequence))\n",
        "\n",
        "  return ([complexity, treeLevel, sequence])\n",
        "\n",
        "def movingWindow(sequence, treeLevel=8, chunkSize=20, complexity_threshold = 0.2, showGraph = False):\n",
        "  # takes a genetic sequence and calculates the linguistic complexity scores\n",
        "  # for windows of size chunkSize for word lengths from 1 to treeLevel.\n",
        "  # returns the lowest score window in format:  \n",
        "  # [Boolean, [complexity, treeLevel, sequence]] where Boolean denotes if the\n",
        "  # complexity score is lower (True) than complexity_threshold\n",
        "  # optional: draw the complexity graph for the length of the sequence \n",
        "  # by setting showGraph = True\n",
        "\n",
        "  complexityList=[]\n",
        "\n",
        "  for i in range(1, treeLevel+1):\n",
        "    for chunk in range(len(sequence)-(chunkSize-1)):\n",
        "\n",
        "      chunkSeq = sequence[chunk:(chunk+chunkSize)]\n",
        "      complexityList.append(findComplexity(chunkSeq, i, complexity_threshold))\n",
        "\n",
        "  lowest=min(complexityList, key=lambda x: x[0])\n",
        "\n",
        "  #print(complexityList)\n",
        "\n",
        "  lowLvl=lowest[1]\n",
        "\n",
        "  if showGraph:\n",
        "    df = DataFrame(complexityList,columns=['complexity','tree','sequence'])\n",
        "    df = df[['complexity','tree']]\n",
        "    ax = df[df.tree == lowLvl].filter(items=[\"complexity\"]).plot(fontsize=15, grid=True, figsize=(20,8))\n",
        "    ax.axhline(complexity_threshold, color=\"red\", linestyle=\"--\")\n",
        "    ax.axhline(1, color=\"green\", linestyle=\"--\")\n",
        "    ax.set_ylim(ymin=0)\n",
        "    ax.set_title(lowest[2])\n",
        "\n",
        "  if lowest[0] < complexity_threshold:\n",
        "    return([True, lowest])\n",
        "  else:\n",
        "    return ([False, lowest])\n",
        "\n",
        "def createLogFile(seqlist, filename, complexity_threshold = 0.2, chunkSize=20):\n",
        "  # takes a list of sequences for analysis, the name of the output file,\n",
        "  # complexity threshold, and windowsize (chunkSize), and outputs a log file\n",
        "  # with lowesst complexity score for each sequence\n",
        "  outputf = open(filename, \"w\")\n",
        "  truemmbir = 0\n",
        "  for i in seqlist:\n",
        "    seqScore = movingWindow(i, complexity_threshold = complexity_threshold, chunkSize = chunkSize)\n",
        "    if seqScore[0] == False:\n",
        "      truemmbir += 1\n",
        "    outputf.write(str(seqScore[1])+\"\\n\")\n",
        "  print(\"sequences above threshold:\", truemmbir)\n",
        "\n",
        "  outputf.close()\n",
        "\n",
        "def createSequenceList(filename):\n",
        "  # takes a filename and extracts sequences from it, and outputs them to a list\n",
        "  # has some checking (all sequences shorter than 100bp will be discarted)\n",
        "  seqfile = open(filename, \"r\")\n",
        "  lines = seqfile.readlines()\n",
        "  seqlist=[]\n",
        "  for line in lines:\n",
        "    if \"bir:\" in line:\n",
        "      if len(line) > 100:\n",
        "        seqlist.append(line.strip(\"\\n\").strip(\"bir:-\"))\n",
        "  seqlist = list(dict.fromkeys(seqlist))\n",
        "  print(len(seqlist))\n",
        "\n",
        "  longseq=0\n",
        "  for i in seqlist:\n",
        "    if len(i) > 300:\n",
        "      longseq+=1\n",
        "  print(longseq)\n",
        "\n",
        "  return seqlist\n",
        "\n",
        "def createDataFrameFromLogFile(logfile):\n",
        "  # creates a pandas dataframe out of the complexity scores log file\n",
        "  logfile = open(logfile, \"r\")\n",
        "  lines = logfile.readlines()\n",
        "  loglist=[]\n",
        "  for line in lines:\n",
        "    if \"[\" in line:\n",
        "        loglist.append(line.strip(\"\\n\"))\n",
        "\n",
        "  loglist2=[]\n",
        "  for i in range(len(loglist)):\n",
        "    loglist[i] = ast.literal_eval(loglist[i]) \n",
        "  print(\"total sequences:\", len(loglist))\n",
        "\n",
        "  df = DataFrame(loglist,columns=['complexity', 'level', 'sequence'])\n",
        "  \n",
        "  return df"
      ],
      "execution_count": null,
      "outputs": []
    },
    {
      "cell_type": "markdown",
      "metadata": {
        "id": "EEEBa-9ZTRUZ"
      },
      "source": [
        "# Test"
      ]
    },
    {
      "cell_type": "code",
      "metadata": {
        "id": "40IL7kFGjW7t"
      },
      "source": [
        "sequence = \"GTTCTAGGGTACATGTGTACAATGTGCAGGTTTGTTACATATGTATACTTGTGCCATGTTGGTGTGCTGCACCCATTAACTCGTCATTTACATTAGGTATATCCCCTAATGGTGTGGGGGGGGGGGGGGGGCACCCCACAACAGGCCCCAGTGTGTGATGTTCCCCTTACTGTGTCCAAGTGTTCTCATTGTTCAAATCCAAACAATGAGTGAGAACAAGC\"\n",
        "print(len(sequence))\n",
        "\n",
        "movingWindow(sequence, treeLevel=7, chunkSize=20, complexity_threshold = 0.3, showGraph = True)"
      ],
      "execution_count": null,
      "outputs": []
    },
    {
      "cell_type": "markdown",
      "metadata": {
        "id": "bwhl86HxSIJw"
      },
      "source": [
        "Input Files Entry:"
      ]
    },
    {
      "cell_type": "code",
      "metadata": {
        "id": "4HtPLunWw7hE",
        "colab": {
          "base_uri": "https://localhost:8080/"
        },
        "outputId": "1d19f02e-5872-420c-dd37-2669c739171d"
      },
      "source": [
        "seqList_mmbir = createSequenceList(\"/content/srr23.txt\") #/content/UNC_birlocs.txt\n",
        "seqList_other = createSequenceList(\"/content/srr23_all.txt\") #/content/TestSetOTHER.txt"
      ],
      "execution_count": null,
      "outputs": [
        {
          "output_type": "stream",
          "text": [
            "201\n",
            "32\n",
            "49\n",
            "12\n"
          ],
          "name": "stdout"
        }
      ]
    },
    {
      "cell_type": "markdown",
      "metadata": {
        "id": "Amh5vVBoSP2K"
      },
      "source": [
        "Set Up Complexity Threshold &\n",
        "\n",
        "Window Size &\n",
        "\n",
        "Run the Complexity Program &\n",
        "\n",
        "Create Log Files &\n",
        "\n",
        "Create the Dataframes for Graphing"
      ]
    },
    {
      "cell_type": "code",
      "metadata": {
        "id": "ozsElfIqdZLR",
        "colab": {
          "base_uri": "https://localhost:8080/"
        },
        "outputId": "a51062b2-a12e-40cc-bee4-0530d053ad69"
      },
      "source": [
        "createLogFile(seqList_mmbir, \"testMMBIR_log.txt\", complexity_threshold = 0.2, chunkSize=20)\n",
        "createLogFile(seqList_other, \"testOTHER_log.txt\", complexity_threshold = 0.2, chunkSize=20)\n",
        "\n",
        "df_mmbir = createDataFrameFromLogFile(\"/content/testMMBIR_log.txt\")\n",
        "df_other = createDataFrameFromLogFile(\"/content/testOTHER_log.txt\")"
      ],
      "execution_count": null,
      "outputs": [
        {
          "output_type": "stream",
          "text": [
            "sequences above threshold: 134\n",
            "sequences above threshold: 30\n",
            "total sequences: 201\n",
            "total sequences: 49\n"
          ],
          "name": "stdout"
        }
      ]
    },
    {
      "cell_type": "markdown",
      "metadata": {
        "id": "f4CJP6c9Ugss"
      },
      "source": [
        "Calculate the filtering efficiency given threshold1"
      ]
    },
    {
      "cell_type": "code",
      "metadata": {
        "colab": {
          "base_uri": "https://localhost:8080/"
        },
        "id": "_XVRZgCa8m03",
        "outputId": "aec1c83c-55e3-4396-f2b9-ae396e35eaba"
      },
      "source": [
        "threshold1 = 0.3\n",
        "threshold2 = 0.2\n",
        "\n",
        "mmbir_len = len(df_mmbir)\n",
        "other_len = len(df_other)\n",
        "\n",
        "df1 = df_mmbir[df_mmbir.complexity > threshold1]\n",
        "print(\"mmbir events % left:\", len(df1)/mmbir_len, \"or\", len(df1), \"total\")\n",
        "\n",
        "df1 = df_other[df_other.complexity > threshold1]\n",
        "print(\"other events % left:\", len(df1)/other_len, \"or\", len(df1), \"total\")"
      ],
      "execution_count": null,
      "outputs": [
        {
          "output_type": "stream",
          "text": [
            "mmbir events % left: 0.4577114427860697 or 92 total\n",
            "other events % left: 0.4897959183673469 or 24 total\n"
          ],
          "name": "stdout"
        }
      ]
    },
    {
      "cell_type": "markdown",
      "metadata": {
        "id": "hOtM4Wz5Umv3"
      },
      "source": [
        "Join Two Datasets Together"
      ]
    },
    {
      "cell_type": "code",
      "metadata": {
        "id": "Imuy1DIb84xe"
      },
      "source": [
        "df_mmbir = df_mmbir.rename(columns={\"complexity\": \"complexity_mmbir\"})\n",
        "df_other = df_other.rename(columns={\"complexity\": \"complexity_other\"})\n",
        "df_mmbir = df_mmbir[[\"complexity_mmbir\"]]\n",
        "df_other = df_other[[\"complexity_other\"]]\n",
        "df_mmbir = df_mmbir.join(df_other)\n",
        "df = df_mmbir"
      ],
      "execution_count": null,
      "outputs": []
    },
    {
      "cell_type": "markdown",
      "metadata": {
        "id": "MzyupYxeU41L"
      },
      "source": [
        "Create a Visualization"
      ]
    },
    {
      "cell_type": "code",
      "metadata": {
        "id": "_FULB3498Ae_",
        "colab": {
          "base_uri": "https://localhost:8080/",
          "height": 748
        },
        "outputId": "37456ba9-eb0b-4931-b88e-25f0d2269614"
      },
      "source": [
        "#df = df.dropna()\n",
        "\n",
        "ax = df.plot.kde(figsize = (10,6), grid=True, bw_method=0.3)\n",
        "ax.axvline(threshold1, color=\"red\", linestyle=\":\")\n",
        "ax.axvline(threshold2, color=\"black\", linestyle=\":\")\n",
        "\n",
        "ax = df.plot.hist(alpha=0.5, figsize = (10,6), grid = True)\n",
        "ax.axvline(threshold1, color=\"red\", linestyle=\":\")\n",
        "ax.axvline(threshold2, color=\"black\", linestyle=\":\")"
      ],
      "execution_count": null,
      "outputs": [
        {
          "output_type": "execute_result",
          "data": {
            "text/plain": [
              "<matplotlib.lines.Line2D at 0x7f67d55bbc90>"
            ]
          },
          "metadata": {
            "tags": []
          },
          "execution_count": 10
        },
        {
          "output_type": "display_data",
          "data": {
            "image/png": "[encoded data removed]",
            "text/plain": [
              "<Figure size 720x432 with 1 Axes>"
            ]
          },
          "metadata": {
            "tags": [],
            "needs_background": "light"
          }
        },
        {
          "output_type": "display_data",
          "data": {
            "image/png": "[encoded data removed]",
            "text/plain": [
              "<Figure size 720x432 with 1 Axes>"
            ]
          },
          "metadata": {
            "tags": [],
            "needs_background": "light"
          }
        }
      ]
    },
    {
      "cell_type": "code",
      "metadata": {
        "id": "WmRMvs6PDetJ"
      },
      "source": [
        "seqlist = createSequenceList(\"/content/p53KO-C5.txt\")\n",
        "for seq in seqlist:\n",
        "  print(seq)\n",
        "for i in seqlist:\n",
        "  movingWindow(i, treeLevel=8, chunkSize=20, complexity_threshold = 0.2, showGraph = True)"
      ],
      "execution_count": null,
      "outputs": []
    },
    {
      "cell_type": "code",
      "metadata": {
        "id": "L7AFwBj3kO2w"
      },
      "source": [
        "!pip install seq-tools\n",
        "import seqtools.sequence.kmer as kmer\n",
        "\n",
        "def stats(sequence, k=3, square=True):\n",
        "    \"\"\"Returns the complexity score along with the number of unique kmers\"\"\"\n",
        "    kfreq = kmer.frequency(sequence, k)\n",
        "    if square:\n",
        "        score = sum([(x - 1)**2 for x in kfreq.values()])\n",
        "    else:\n",
        "        score = sum([(x - 1) for x in kfreq.values()])\n",
        "    return (score, len(kfreq))\n",
        "\n",
        "def score(sequence, k=3, square=True):\n",
        "    stats(sequence, k, square)[0]\n",
        "\n",
        "def max_score(sequence, k=3, square=True):\n",
        "    ans = len(sequence) - k\n",
        "    if square:\n",
        "        ans = ans ** 2\n",
        "    return ans\n"
      ],
      "execution_count": null,
      "outputs": []
    },
    {
      "cell_type": "code",
      "metadata": {
        "id": "5J35YRzNhC_d"
      },
      "source": [
        "seqList_mmbir = createSequenceList(\"/content/PolQKOR5C1.txt\")\n",
        "createLogFile(seqList_mmbir, \"testMMBIR_log.txt\", complexity_threshold = 0.3, chunkSize=20)\n",
        "df_mmbir = createDataFrameFromLogFile(\"/content/testMMBIR_log.txt\")\n"
      ],
      "execution_count": null,
      "outputs": []
    },
    {
      "cell_type": "code",
      "metadata": {
        "id": "Lw_e92eHGIAo"
      },
      "source": [
        "def countInsertionLengths(filename):\n",
        "  # takes a filename and extracts sequences from it, and outputs them to a list\n",
        "  # has some checking (all sequences shorter than 100bp will be discarted)\n",
        "  seqfile = open(filename, \"r\")\n",
        "  lines = seqfile.readlines()\n",
        "  insertionlist=[]\n",
        "  dir=\"\"\n",
        "  for line in lines:\n",
        "    if \">\" in line:\n",
        "      dir = line.strip(\">\").strip()\n",
        "    if \"Microhomology\" in line:\n",
        "      line = line.strip(\"Microhomology Insertion :\").strip()\n",
        "      insertionlist.append([dir,line])\n",
        "  print(len(insertionlist))\n",
        "\n",
        "  return insertionlist\n",
        "\n",
        "inslist = countInsertionLengths(\"/content/UNC_insertions.txt\")\n",
        "df = DataFrame(inslist,columns=['sample', 'sequence'])"
      ],
      "execution_count": null,
      "outputs": []
    },
    {
      "cell_type": "code",
      "metadata": {
        "id": "nhjogsK7JpUx"
      },
      "source": [
        "import seaborn as sns\n",
        "df[\"length\"] = df.sequence.str.len()\n",
        "df = df[['sample', 'length']]\n",
        "newdf = df.groupby('sample').mean()"
      ],
      "execution_count": null,
      "outputs": []
    },
    {
      "cell_type": "code",
      "metadata": {
        "id": "zwGBouWuMR1V"
      },
      "source": [
        "print(newdf)\n",
        "sns.distplot(data=newdf, x=\"sample\")"
      ],
      "execution_count": null,
      "outputs": []
    }
  ]
}